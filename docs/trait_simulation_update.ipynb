{
 "cells": [
  {
   "cell_type": "markdown",
   "metadata": {},
   "source": [
    "# Trait Simulation Update\n",
    "\n",
    "## Huwenbo Shi\n",
    "#### UCLA Bioinformatics -- Prof. Bogdan Pasaniuc's Lab\n",
    "#### shihuwenbo@ucla.edu\n",
    "\n",
    "## Functionalities\n",
    "\n",
    "1. Simulate under a generalized linear model or a generalized linear mixed model\n",
    "2. Can simulate single or multiple correlated traits\n",
    "3. Provide convenient ways to specify the simulation model "
   ]
  },
  {
   "cell_type": "markdown",
   "metadata": {
    "collapsed": true
   },
   "source": [
    "## Examples"
   ]
  },
  {
   "cell_type": "markdown",
   "metadata": {},
   "source": [
    "### First, simulate some data"
   ]
  },
  {
   "cell_type": "code",
   "execution_count": 1,
   "metadata": {
    "collapsed": false,
    "scrolled": true
   },
   "outputs": [
    {
     "data": {
      "text/html": [
       "<table class=\"data-frame\"><tr><th></th><th>X1</th><th>X2</th><th>X3</th><th>X4</th><th>X5</th><th>HDL</th><th>LDL</th></tr><tr><th>1</th><td>0.0</td><td>1.0</td><td>1.0</td><td>2.0</td><td>1.0</td><td>34.162000739722814</td><td>40.79102085151763</td></tr><tr><th>2</th><td>1.0</td><td>0.0</td><td>0.0</td><td>1.0</td><td>1.0</td><td>38.76241810016405</td><td>20.474557003433645</td></tr><tr><th>3</th><td>0.0</td><td>0.0</td><td>2.0</td><td>2.0</td><td>0.0</td><td>49.316769804770075</td><td>32.658092129512156</td></tr><tr><th>4</th><td>0.0</td><td>0.0</td><td>2.0</td><td>1.0</td><td>1.0</td><td>77.11498039014404</td><td>79.99427953391682</td></tr><tr><th>5</th><td>2.0</td><td>0.0</td><td>2.0</td><td>1.0</td><td>1.0</td><td>35.09973098191831</td><td>79.19998201392798</td></tr><tr><th>6</th><td>0.0</td><td>1.0</td><td>0.0</td><td>0.0</td><td>2.0</td><td>53.34506523947434</td><td>46.22647847657751</td></tr><tr><th>7</th><td>0.0</td><td>0.0</td><td>1.0</td><td>2.0</td><td>1.0</td><td>45.48307102970789</td><td>66.39338290744263</td></tr><tr><th>8</th><td>2.0</td><td>1.0</td><td>0.0</td><td>1.0</td><td>0.0</td><td>36.871413937143785</td><td>32.568342391884244</td></tr><tr><th>9</th><td>0.0</td><td>1.0</td><td>0.0</td><td>1.0</td><td>2.0</td><td>35.0827525875335</td><td>21.222492122760034</td></tr><tr><th>10</th><td>2.0</td><td>0.0</td><td>1.0</td><td>0.0</td><td>1.0</td><td>37.26209073654137</td><td>71.57072816525965</td></tr></table>"
      ],
      "text/plain": [
       "10×7 DataFrames.DataFrame\n",
       "│ Row │ X1  │ X2  │ X3  │ X4  │ X5  │ HDL     │ LDL     │\n",
       "├─────┼─────┼─────┼─────┼─────┼─────┼─────────┼─────────┤\n",
       "│ 1   │ 0.0 │ 1.0 │ 1.0 │ 2.0 │ 1.0 │ 34.162  │ 40.791  │\n",
       "│ 2   │ 1.0 │ 0.0 │ 0.0 │ 1.0 │ 1.0 │ 38.7624 │ 20.4746 │\n",
       "│ 3   │ 0.0 │ 0.0 │ 2.0 │ 2.0 │ 0.0 │ 49.3168 │ 32.6581 │\n",
       "│ 4   │ 0.0 │ 0.0 │ 2.0 │ 1.0 │ 1.0 │ 77.115  │ 79.9943 │\n",
       "│ 5   │ 2.0 │ 0.0 │ 2.0 │ 1.0 │ 1.0 │ 35.0997 │ 79.2    │\n",
       "│ 6   │ 0.0 │ 1.0 │ 0.0 │ 0.0 │ 2.0 │ 53.3451 │ 46.2265 │\n",
       "│ 7   │ 0.0 │ 0.0 │ 1.0 │ 2.0 │ 1.0 │ 45.4831 │ 66.3934 │\n",
       "│ 8   │ 2.0 │ 1.0 │ 0.0 │ 1.0 │ 0.0 │ 36.8714 │ 32.5683 │\n",
       "│ 9   │ 0.0 │ 1.0 │ 0.0 │ 1.0 │ 2.0 │ 35.0828 │ 21.2225 │\n",
       "│ 10  │ 2.0 │ 0.0 │ 1.0 │ 0.0 │ 1.0 │ 37.2621 │ 71.5707 │"
      ]
     },
     "execution_count": 1,
     "metadata": {},
     "output_type": "execute_result"
    }
   ],
   "source": [
    "include(\"../src/TraitSimulation.jl\");\n",
    "using DataFrames, Distributions, TraitSimulation;\n",
    "srand(1);\n",
    "npeople, nsnp = (10, 5);\n",
    "snp_data = Matrix{Float64}(npeople, nsnp);\n",
    "freqs = [0.2, 0.3, 0.4, 0.7, 0.5];\n",
    "for i=1:nsnp\n",
    "    snp_data[:,i] = rand(Binomial(2,freqs[i]), npeople);\n",
    "end\n",
    "hdl_data, ldl_data = (Vector{Float64}(npeople),\n",
    "    Vector{Float64}(npeople));\n",
    "for i=1:npeople\n",
    "    hdl_data[i] = rand(Uniform(20,80));\n",
    "    ldl_data[i] = rand(Uniform(20,80));\n",
    "end\n",
    "data = [snp_data hdl_data ldl_data]\n",
    "data_frame = convert(DataFrame, data);\n",
    "names!(data_frame, [:X1, :X2, :X3, :X4, :X5, :HDL, :LDL])"
   ]
  },
  {
   "cell_type": "markdown",
   "metadata": {
    "collapsed": true
   },
   "source": [
    "### Simulate a single trait with Normal response\n",
    "\n",
    "$\\mu = -0.2X_1 + 0.1X_2 \\times X_5 + 0.3\\log(\\text{HDL} + \\text{LDL})$\n",
    "\n",
    "$y \\sim N(\\mu, 1.0)$"
   ]
  },
  {
   "cell_type": "code",
   "execution_count": null,
   "metadata": {
    "collapsed": false,
    "scrolled": true
   },
   "outputs": [],
   "source": [
    "model = Model(Y ~ -0.2X1+0.1X2*X5+0.3log(HDL+LDL),\n",
    "    IdentityLink(), NormalResponse(1.0))\n",
    "simulate(model, data_frame)"
   ]
  },
  {
   "cell_type": "markdown",
   "metadata": {},
   "source": [
    "### Simulate three traits with different mean but same response distribution\n",
    "\n",
    "$\\mu_1 = 0.2X1+3.0$, $\\mu_2 = 0.3X_3+2.0$, $\\mu_3 = 0.3X_4+\\text{HDL}$\n",
    "\n",
    "$y_1 \\sim N(\\mu_1, 1.0)$, $y_2 \\sim N(\\mu_2, 1.0)$, $y_3 \\sim N(\\mu_3, 1.0)$"
   ]
  },
  {
   "cell_type": "code",
   "execution_count": null,
   "metadata": {
    "collapsed": false
   },
   "outputs": [],
   "source": [
    "model = Model([Y1 ~ 0.2X1+3.0, Y2 ~ 0.1X3+2.0, Y3 ~ 0.3X4+HDL],\n",
    "    IdentityLink(), NormalResponse(1.0))\n",
    "simulate(model, data_frame)"
   ]
  },
  {
   "cell_type": "markdown",
   "metadata": {
    "collapsed": true
   },
   "source": [
    "### Simulate three traits with Binomial, Poisson, and Normal response\n",
    "\n",
    "$\\mu_1 = 0.2X_1 + 3.0$, \n",
    "$y_1 \\sim \\text{Bin}(100, \\mu_1)$\n",
    "\n",
    "$\\mu_2 = 0.1X_3 + 2.0$, \n",
    "$y_2 \\sim \\text{Pois}(\\mu_2)$\n",
    "\n",
    "$\\mu_3 = 0.3X_4 + HDL$, \n",
    "$y_3 \\sim N(\\mu_3, 2.0)$"
   ]
  },
  {
   "cell_type": "code",
   "execution_count": null,
   "metadata": {
    "collapsed": false
   },
   "outputs": [],
   "source": [
    "μ = [Y1 ~ 0.2X1+3.0, Y2 ~ 0.1X3+2.0, Y3 ~ 0.3X4+HDL]\n",
    "link = [LogitLink(), LogLink(), IdentityLink()]\n",
    "dist = [BinomialResponse(100), PoissonResponse(), NormalResponse(2.0)]\n",
    "model = Model(μ, link, dist)\n",
    "simulate(model, data_frame)"
   ]
  },
  {
   "cell_type": "markdown",
   "metadata": {},
   "source": [
    "### Simulate a single Poisson distributed trait with two variance components\n",
    "\n",
    "$\\mu = (0.2X_1 + 2.0) + X u + \\epsilon$, $u \\sim N(0, 0.04K)$, $\\epsilon \\sim N(0, 0.8I)$\n",
    "\n",
    "$y \\sim \\text{Pois}(\\mu)$"
   ]
  },
  {
   "cell_type": "code",
   "execution_count": 20,
   "metadata": {
    "collapsed": false
   },
   "outputs": [
    {
     "data": {
      "text/html": [
       "<table class=\"data-frame\"><tr><th></th><th>Y</th></tr><tr><th>1</th><td>3</td></tr><tr><th>2</th><td>3</td></tr><tr><th>3</th><td>7</td></tr><tr><th>4</th><td>0</td></tr><tr><th>5</th><td>4</td></tr><tr><th>6</th><td>1</td></tr><tr><th>7</th><td>0</td></tr><tr><th>8</th><td>21</td></tr><tr><th>9</th><td>5</td></tr><tr><th>10</th><td>7</td></tr></table>"
      ],
      "text/plain": [
       "10×1 DataFrames.DataFrame\n",
       "│ Row │ Y  │\n",
       "├─────┼────┤\n",
       "│ 1   │ 3  │\n",
       "│ 2   │ 3  │\n",
       "│ 3   │ 7  │\n",
       "│ 4   │ 0  │\n",
       "│ 5   │ 4  │\n",
       "│ 6   │ 1  │\n",
       "│ 7   │ 0  │\n",
       "│ 8   │ 21 │\n",
       "│ 9   │ 5  │\n",
       "│ 10  │ 7  │"
      ]
     },
     "execution_count": 20,
     "metadata": {},
     "output_type": "execute_result"
    }
   ],
   "source": [
    "μ = Y ~ 0.2X1+2.0\n",
    "K = cor(data')\n",
    "I = eye(npeople)\n",
    "Σ = [VarianceComponent(0.2, K), VarianceComponent(0.8, I)]\n",
    "model = Model(μ, Σ, LogLink(), PoissonResponse())\n",
    "simulate(model, data_frame)"
   ]
  },
  {
   "cell_type": "markdown",
   "metadata": {
    "collapsed": true
   },
   "source": [
    "### A simple way to expression variance component model\n",
    "\n",
    "Using the macro ```@vc``` instead of ```[VarianceComponent(0.2, K), VarianceComponent(0.8, I)]```"
   ]
  },
  {
   "cell_type": "code",
   "execution_count": 19,
   "metadata": {
    "collapsed": false
   },
   "outputs": [
    {
     "data": {
      "text/html": [
       "<table class=\"data-frame\"><tr><th></th><th>Y</th></tr><tr><th>1</th><td>13</td></tr><tr><th>2</th><td>56</td></tr><tr><th>3</th><td>0</td></tr><tr><th>4</th><td>11</td></tr><tr><th>5</th><td>28</td></tr><tr><th>6</th><td>8</td></tr><tr><th>7</th><td>2</td></tr><tr><th>8</th><td>24</td></tr><tr><th>9</th><td>1</td></tr><tr><th>10</th><td>5</td></tr></table>"
      ],
      "text/plain": [
       "10×1 DataFrames.DataFrame\n",
       "│ Row │ Y  │\n",
       "├─────┼────┤\n",
       "│ 1   │ 13 │\n",
       "│ 2   │ 56 │\n",
       "│ 3   │ 0  │\n",
       "│ 4   │ 11 │\n",
       "│ 5   │ 28 │\n",
       "│ 6   │ 8  │\n",
       "│ 7   │ 2  │\n",
       "│ 8   │ 24 │\n",
       "│ 9   │ 1  │\n",
       "│ 10  │ 5  │"
      ]
     },
     "execution_count": 19,
     "metadata": {},
     "output_type": "execute_result"
    }
   ],
   "source": [
    "μ = Y ~ 0.2X1+2.0\n",
    "K = cor(data')\n",
    "I = eye(npeople)\n",
    "model = Model(μ, (@vc 0.2K + 0.8I), LogLink(), PoissonResponse())\n",
    "simulate(model, data_frame)"
   ]
  },
  {
   "cell_type": "markdown",
   "metadata": {},
   "source": [
    "### Simulate two traits with two variance components and cross covariance"
   ]
  },
  {
   "cell_type": "code",
   "execution_count": 21,
   "metadata": {
    "collapsed": false
   },
   "outputs": [
    {
     "data": {
      "text/html": [
       "<table class=\"data-frame\"><tr><th></th><th>Y1</th><th>Y2</th></tr><tr><th>1</th><td>-0.10222997669454736</td><td>1.242014570782589</td></tr><tr><th>2</th><td>1.6985645798391524</td><td>-1.7314710486455063</td></tr><tr><th>3</th><td>0.6579712947986169</td><td>2.2033770111233073</td></tr><tr><th>4</th><td>1.0769182112301432</td><td>1.7076290809531234</td></tr><tr><th>5</th><td>2.9038228662096914</td><td>3.303032046765953</td></tr><tr><th>6</th><td>1.468375569093222</td><td>-0.31254353576852456</td></tr><tr><th>7</th><td>-1.3096109093801487</td><td>2.193982272458793</td></tr><tr><th>8</th><td>3.753520436943161</td><td>-2.1563700974996456</td></tr><tr><th>9</th><td>1.1805594385983615</td><td>0.29668922663399433</td></tr><tr><th>10</th><td>2.7257943887238394</td><td>-0.04193614515632327</td></tr></table>"
      ],
      "text/plain": [
       "10×2 DataFrames.DataFrame\n",
       "│ Row │ Y1       │ Y2         │\n",
       "├─────┼──────────┼────────────┤\n",
       "│ 1   │ -0.10223 │ 1.24201    │\n",
       "│ 2   │ 1.69856  │ -1.73147   │\n",
       "│ 3   │ 0.657971 │ 2.20338    │\n",
       "│ 4   │ 1.07692  │ 1.70763    │\n",
       "│ 5   │ 2.90382  │ 3.30303    │\n",
       "│ 6   │ 1.46838  │ -0.312544  │\n",
       "│ 7   │ -1.30961 │ 2.19398    │\n",
       "│ 8   │ 3.75352  │ -2.15637   │\n",
       "│ 9   │ 1.18056  │ 0.296689   │\n",
       "│ 10  │ 2.72579  │ -0.0419361 │"
      ]
     },
     "execution_count": 21,
     "metadata": {},
     "output_type": "execute_result"
    }
   ],
   "source": [
    "A = [0.2 -0.1; -0.1 0.3]\n",
    "B = [0.8 -0.2; -0.2 0.7]\n",
    "μ = [Y1 ~ X1+0.2X2*X3+1.0, Y2 ~ X3+0.1log(HDL+LDL)+0.1]\n",
    "model = Model(μ, (@vc A ⊗ K + B ⊗ I), IdentityLink(), NormalResponse(1.0))\n",
    "simulate(model, data_frame)"
   ]
  },
  {
   "cell_type": "markdown",
   "metadata": {},
   "source": [
    "## Future work\n",
    "\n",
    "1. Add missingness to the trait simulation module\n",
    "2. Speed up the code in variance component simulation\n",
    "3. Add code to check user input and handle error gracefully"
   ]
  },
  {
   "cell_type": "code",
   "execution_count": null,
   "metadata": {
    "collapsed": true
   },
   "outputs": [],
   "source": []
  }
 ],
 "metadata": {
  "kernelspec": {
   "display_name": "Julia 0.5.0-rc3",
   "language": "julia",
   "name": "julia-0.5"
  },
  "language_info": {
   "file_extension": ".jl",
   "mimetype": "application/julia",
   "name": "julia",
   "version": "0.5.0"
  }
 },
 "nbformat": 4,
 "nbformat_minor": 0
}
