{
 "cells": [
  {
   "cell_type": "code",
   "execution_count": 1,
   "metadata": {
    "collapsed": false
   },
   "outputs": [],
   "source": [
    "include(\"../src/TraitSimulation.jl\")\n",
    "using DataFrames, TraitSimulation"
   ]
  },
  {
   "cell_type": "code",
   "execution_count": 2,
   "metadata": {
    "collapsed": false
   },
   "outputs": [
    {
     "data": {
      "text/html": [
       "<table class=\"data-frame\"><tr><th></th><th>A</th><th>B</th><th>C</th><th>D</th><th>E</th><th>F</th></tr><tr><th>1</th><td>0.23603334566204692</td><td>0.21096820215853596</td><td>0.5557510873245723</td><td>0.20947237319807077</td><td>0.07695088688120899</td><td>0.6448833539420931</td></tr><tr><th>2</th><td>0.34651701419196046</td><td>0.951916339835734</td><td>0.43710797460962514</td><td>0.25137920979222494</td><td>0.6403962459899388</td><td>0.07782644396003469</td></tr><tr><th>3</th><td>0.3127069683360675</td><td>0.9999046588986136</td><td>0.42471785049513144</td><td>0.02037486871266725</td><td>0.8735441302706854</td><td>0.8481854810000327</td></tr><tr><th>4</th><td>0.00790928339056074</td><td>0.25166218303197185</td><td>0.773223048457377</td><td>0.2877015122756894</td><td>0.27858242002877853</td><td>0.0856351682044918</td></tr><tr><th>5</th><td>0.4886128300795012</td><td>0.9866663668987996</td><td>0.2811902322857298</td><td>0.859512136087661</td><td>0.7513126327861701</td><td>0.5532055454580578</td></tr></table>"
      ],
      "text/plain": [
       "5×6 DataFrames.DataFrame\n",
       "│ Row │ A          │ B        │ C        │ D         │ E         │ F         │\n",
       "├─────┼────────────┼──────────┼──────────┼───────────┼───────────┼───────────┤\n",
       "│ 1   │ 0.236033   │ 0.210968 │ 0.555751 │ 0.209472  │ 0.0769509 │ 0.644883  │\n",
       "│ 2   │ 0.346517   │ 0.951916 │ 0.437108 │ 0.251379  │ 0.640396  │ 0.0778264 │\n",
       "│ 3   │ 0.312707   │ 0.999905 │ 0.424718 │ 0.0203749 │ 0.873544  │ 0.848185  │\n",
       "│ 4   │ 0.00790928 │ 0.251662 │ 0.773223 │ 0.287702  │ 0.278582  │ 0.0856352 │\n",
       "│ 5   │ 0.488613   │ 0.986666 │ 0.28119  │ 0.859512  │ 0.751313  │ 0.553206  │"
      ]
     },
     "execution_count": 2,
     "metadata": {},
     "output_type": "execute_result"
    }
   ],
   "source": [
    "# create a dataset for testing\n",
    "srand(1)\n",
    "data = rand(5,6)\n",
    "df = convert(DataFrame, data)\n",
    "cov_mat = cor(data')\n",
    "names!(df, [:A, :B, :C, :D, :E, :F])"
   ]
  },
  {
   "cell_type": "code",
   "execution_count": 9,
   "metadata": {
    "collapsed": false
   },
   "outputs": [
    {
     "data": {
      "text/html": [
       "<table class=\"data-frame\"><tr><th></th><th>T</th></tr><tr><th>1</th><td>0.8296713687454297</td></tr><tr><th>2</th><td>1.4987221765068286</td></tr><tr><th>3</th><td>1.4212780112467271</td></tr><tr><th>4</th><td>0.856787269123028</td></tr><tr><th>5</th><td>1.2534810799152252</td></tr></table>"
      ],
      "text/plain": [
       "5×1 DataFrames.DataFrame\n",
       "│ Row │ T        │\n",
       "├─────┼──────────┤\n",
       "│ 1   │ 0.829671 │\n",
       "│ 2   │ 1.49872  │\n",
       "│ 3   │ 1.42128  │\n",
       "│ 4   │ 0.856787 │\n",
       "│ 5   │ 1.25348  │"
      ]
     },
     "execution_count": 9,
     "metadata": {},
     "output_type": "execute_result"
    }
   ],
   "source": [
    "# simulate a single trait using GLM\n",
    "sim_model = Model(T ~ A + 2B*C, IdentityLink(), NormalResponse(1.0))\n",
    "y = simulate(sim_model, df)"
   ]
  },
  {
   "cell_type": "code",
   "execution_count": 10,
   "metadata": {
    "collapsed": false
   },
   "outputs": [
    {
     "data": {
      "text/html": [
       "<table class=\"data-frame\"><tr><th></th><th>T1</th><th>T2</th></tr><tr><th>1</th><td>1.9937003523203445</td><td>-0.005103919607121421</td></tr><tr><th>2</th><td>2.4384920644109673</td><td>4.5036580275445015</td></tr><tr><th>3</th><td>0.9967785820767805</td><td>2.8916050756826595</td></tr><tr><th>4</th><td>0.5532857789690359</td><td>1.6068865859160373</td></tr><tr><th>5</th><td>0.2291794254963837</td><td>1.4165366031669122</td></tr></table>"
      ],
      "text/plain": [
       "5×2 DataFrames.DataFrame\n",
       "│ Row │ T1       │ T2          │\n",
       "├─────┼──────────┼─────────────┤\n",
       "│ 1   │ 1.9937   │ -0.00510392 │\n",
       "│ 2   │ 2.43849  │ 4.50366     │\n",
       "│ 3   │ 0.996779 │ 2.89161     │\n",
       "│ 4   │ 0.553286 │ 1.60689     │\n",
       "│ 5   │ 0.229179 │ 1.41654     │"
      ]
     },
     "execution_count": 10,
     "metadata": {},
     "output_type": "execute_result"
    }
   ],
   "source": [
    "# simulate two traits with the same link and response using GLM\n",
    "formulae = [T1 ~ A+2B*C, T2 ~ A + 2log(B+C)+2.0]\n",
    "sim_model = Model(formulae, IdentityLink(), NormalResponse(1.0))\n",
    "y = simulate(sim_model, df)"
   ]
  },
  {
   "cell_type": "code",
   "execution_count": 11,
   "metadata": {
    "collapsed": false
   },
   "outputs": [
    {
     "data": {
      "text/html": [
       "<table class=\"data-frame\"><tr><th></th><th>T1</th><th>T2</th><th>T3</th></tr><tr><th>1</th><td>-1.4962208991713917</td><td>88</td><td>11</td></tr><tr><th>2</th><td>2.603781693021933</td><td>96</td><td>16</td></tr><tr><th>3</th><td>0.7634421808186758</td><td>98</td><td>14</td></tr><tr><th>4</th><td>1.2624503185897922</td><td>87</td><td>10</td></tr><tr><th>5</th><td>-0.48139210111585573</td><td>96</td><td>23</td></tr></table>"
      ],
      "text/plain": [
       "5×3 DataFrames.DataFrame\n",
       "│ Row │ T1        │ T2 │ T3 │\n",
       "├─────┼───────────┼────┼────┤\n",
       "│ 1   │ -1.49622  │ 88 │ 11 │\n",
       "│ 2   │ 2.60378   │ 96 │ 16 │\n",
       "│ 3   │ 0.763442  │ 98 │ 14 │\n",
       "│ 4   │ 1.26245   │ 87 │ 10 │\n",
       "│ 5   │ -0.481392 │ 96 │ 23 │"
      ]
     },
     "execution_count": 11,
     "metadata": {},
     "output_type": "execute_result"
    }
   ],
   "source": [
    "# simulate three traits with different link and response using GLM\n",
    "formulae = [T1 ~ A+2B*C, T2 ~ A+2log(B+C)+2.0, T3 ~ A+B+C+1.0]\n",
    "links = [IdentityLink(), LogitLink(), LogLink()]\n",
    "resp_dists = [NormalResponse(1.0), BinomialResponse(100), PoissonResponse()]\n",
    "sim_model = Model(formulae, links, resp_dists)\n",
    "y = simulate(sim_model, df)"
   ]
  },
  {
   "cell_type": "code",
   "execution_count": 12,
   "metadata": {
    "collapsed": false
   },
   "outputs": [
    {
     "data": {
      "text/html": [
       "<table class=\"data-frame\"><tr><th></th><th>T</th></tr><tr><th>1</th><td>68</td></tr><tr><th>2</th><td>62</td></tr><tr><th>3</th><td>76</td></tr><tr><th>4</th><td>43</td></tr><tr><th>5</th><td>72</td></tr></table>"
      ],
      "text/plain": [
       "5×1 DataFrames.DataFrame\n",
       "│ Row │ T  │\n",
       "├─────┼────┤\n",
       "│ 1   │ 68 │\n",
       "│ 2   │ 62 │\n",
       "│ 3   │ 76 │\n",
       "│ 4   │ 43 │\n",
       "│ 5   │ 72 │"
      ]
     },
     "execution_count": 12,
     "metadata": {},
     "output_type": "execute_result"
    }
   ],
   "source": [
    "# simulate a single trait with two variance components using GLMM\n",
    "vc = [VarianceComponent(0.2, cov_mat), VarianceComponent(0.8, eye(5))]\n",
    "sim_model = Model(T ~ A+2B*C, LogitLink(), BinomialResponse(100), vc)\n",
    "y = simulate(sim_model, df)"
   ]
  },
  {
   "cell_type": "code",
   "execution_count": 13,
   "metadata": {
    "collapsed": false
   },
   "outputs": [
    {
     "data": {
      "text/html": [
       "<table class=\"data-frame\"><tr><th></th><th>T1</th><th>T2</th></tr><tr><th>1</th><td>2.300793397259024</td><td>1</td></tr><tr><th>2</th><td>-0.9724957256066538</td><td>0</td></tr><tr><th>3</th><td>0.16186818794850574</td><td>0</td></tr><tr><th>4</th><td>-1.981011982636921</td><td>1</td></tr><tr><th>5</th><td>-1.5567734788160243</td><td>0</td></tr></table>"
      ],
      "text/plain": [
       "5×2 DataFrames.DataFrame\n",
       "│ Row │ T1        │ T2 │\n",
       "├─────┼───────────┼────┤\n",
       "│ 1   │ 2.30079   │ 1  │\n",
       "│ 2   │ -0.972496 │ 0  │\n",
       "│ 3   │ 0.161868  │ 0  │\n",
       "│ 4   │ -1.98101  │ 1  │\n",
       "│ 5   │ -1.55677  │ 0  │"
      ]
     },
     "execution_count": 13,
     "metadata": {},
     "output_type": "execute_result"
    }
   ],
   "source": [
    "# simulate two traits with two variance components using GLMM\n",
    "# the two traits can have different response distribution\n",
    "formulae = [T1 ~ A+2B*C, T2 ~ C+log(C)+3.0]\n",
    "links = [IdentityLink(), LogitLink()]\n",
    "resp_dists = [NormalResponse(1.0), PoissonResponse()]\n",
    "vc = [VarianceComponent([0.2, 0.3], cov_mat),\n",
    "      VarianceComponent([0.8, 0.7], eye(5))]\n",
    "sim_model = Model(formulae, links, resp_dists, vc)\n",
    "y = simulate(sim_model, df)"
   ]
  },
  {
   "cell_type": "code",
   "execution_count": 14,
   "metadata": {
    "collapsed": false
   },
   "outputs": [
    {
     "data": {
      "text/html": [
       "<table class=\"data-frame\"><tr><th></th><th>T1</th><th>T2</th></tr><tr><th>1</th><td>1.2375761672364602</td><td>5.598899068351228</td></tr><tr><th>2</th><td>1.7749641269608285</td><td>0.4235391538698168</td></tr><tr><th>3</th><td>2.0820850495371017</td><td>0.20826081606112956</td></tr><tr><th>4</th><td>-0.41284142811269164</td><td>3.5844275050705</td></tr><tr><th>5</th><td>0.3612051541311363</td><td>0.5470808314522484</td></tr></table>"
      ],
      "text/plain": [
       "5×2 DataFrames.DataFrame\n",
       "│ Row │ T1        │ T2       │\n",
       "├─────┼───────────┼──────────┤\n",
       "│ 1   │ 1.23758   │ 5.5989   │\n",
       "│ 2   │ 1.77496   │ 0.423539 │\n",
       "│ 3   │ 2.08209   │ 0.208261 │\n",
       "│ 4   │ -0.412841 │ 3.58443  │\n",
       "│ 5   │ 0.361205  │ 0.547081 │"
      ]
     },
     "execution_count": 14,
     "metadata": {},
     "output_type": "execute_result"
    }
   ],
   "source": [
    "# simulate two traits with two variance components with cross covariances\n",
    "# using GLMM. the two traits have the same response distribution\n",
    "formulae = [T1 ~ A+2B*C, T2 ~ C+log(C)+3.0]\n",
    "vc = [VarianceComponent([0.2 -0.1; -0.1 0.3], cov_mat),\n",
    "      VarianceComponent([0.8 -0.2; -0.2 0.7], eye(5))]\n",
    "sim_model = Model(formulae, IdentityLink(), NormalResponse(1.0), vc)\n",
    "y = simulate(sim_model, df)"
   ]
  },
  {
   "cell_type": "code",
   "execution_count": null,
   "metadata": {
    "collapsed": true
   },
   "outputs": [],
   "source": []
  }
 ],
 "metadata": {
  "kernelspec": {
   "display_name": "Julia 0.5.0-rc2",
   "language": "julia",
   "name": "julia-0.5"
  },
  "language_info": {
   "file_extension": ".jl",
   "mimetype": "application/julia",
   "name": "julia",
   "version": "0.5.0"
  }
 },
 "nbformat": 4,
 "nbformat_minor": 0
}
