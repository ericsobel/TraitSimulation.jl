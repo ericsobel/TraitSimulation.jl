{
 "cells": [
  {
   "cell_type": "code",
   "execution_count": 1,
   "metadata": {
    "collapsed": true
   },
   "outputs": [],
   "source": [
    "include(\"../src/TraitSimulation.jl\")\n",
    "using DataFrames, TraitSimulation"
   ]
  },
  {
   "cell_type": "code",
   "execution_count": 2,
   "metadata": {
    "collapsed": false,
    "scrolled": true
   },
   "outputs": [
    {
     "data": {
      "text/html": [
       "<table class=\"data-frame\"><tr><th></th><th>A</th><th>B</th><th>C</th><th>D</th><th>E</th><th>F</th></tr><tr><th>1</th><td>0.4933257820869694</td><td>0.8739836725086518</td><td>0.5781556567086412</td><td>0.13411863983952643</td><td>0.3037671612591084</td><td>0.6779496718496925</td></tr><tr><th>2</th><td>0.40230119346414783</td><td>0.5666733787500011</td><td>0.6871510261988054</td><td>0.9215853800851344</td><td>0.9096225210283237</td><td>0.9679497165073165</td></tr><tr><th>3</th><td>0.8899053655154903</td><td>0.09647328170995118</td><td>0.623114899405943</td><td>0.08660519400659727</td><td>0.15880266674611265</td><td>0.05448046581645949</td></tr><tr><th>4</th><td>0.43479090551664124</td><td>0.6627991742690582</td><td>0.5784006898435621</td><td>0.24297453610281683</td><td>0.21490937224447437</td><td>0.2569346597765203</td></tr><tr><th>5</th><td>0.8617670737428211</td><td>0.1904768111531845</td><td>0.4825223264952174</td><td>0.9657665868006096</td><td>0.7181465303396555</td><td>0.9753196752861237</td></tr><tr><th>6</th><td>0.9175237947348043</td><td>0.09087254000144385</td><td>0.6015962171510085</td><td>0.7320931219503042</td><td>0.882685513480935</td><td>0.9513196544496756</td></tr><tr><th>7</th><td>0.10520195436570279</td><td>0.9798124633577467</td><td>0.2722336965394485</td><td>0.3053081097480914</td><td>0.39163865020696487</td><td>0.19695641970029532</td></tr><tr><th>8</th><td>0.562779752014261</td><td>0.3511162863985213</td><td>0.11062369559289609</td><td>0.9606634940577203</td><td>0.8829051340487035</td><td>0.25146286321576516</td></tr><tr><th>9</th><td>0.6238790308934099</td><td>0.2651779533764913</td><td>0.567448521248149</td><td>0.7515804495315923</td><td>0.2018242811008908</td><td>0.6418052416557587</td></tr><tr><th>10</th><td>0.38528844811331453</td><td>0.5366003551865897</td><td>0.19310447368685524</td><td>0.8299717338469788</td><td>0.5408173192325361</td><td>0.6840383010171518</td></tr></table>"
      ],
      "text/plain": [
       "10×6 DataFrames.DataFrame\n",
       "│ Row │ A        │ B         │ C        │ D         │ E        │ F         │\n",
       "├─────┼──────────┼───────────┼──────────┼───────────┼──────────┼───────────┤\n",
       "│ 1   │ 0.493326 │ 0.873984  │ 0.578156 │ 0.134119  │ 0.303767 │ 0.67795   │\n",
       "│ 2   │ 0.402301 │ 0.566673  │ 0.687151 │ 0.921585  │ 0.909623 │ 0.96795   │\n",
       "│ 3   │ 0.889905 │ 0.0964733 │ 0.623115 │ 0.0866052 │ 0.158803 │ 0.0544805 │\n",
       "│ 4   │ 0.434791 │ 0.662799  │ 0.578401 │ 0.242975  │ 0.214909 │ 0.256935  │\n",
       "│ 5   │ 0.861767 │ 0.190477  │ 0.482522 │ 0.965767  │ 0.718147 │ 0.97532   │\n",
       "│ 6   │ 0.917524 │ 0.0908725 │ 0.601596 │ 0.732093  │ 0.882686 │ 0.95132   │\n",
       "│ 7   │ 0.105202 │ 0.979812  │ 0.272234 │ 0.305308  │ 0.391639 │ 0.196956  │\n",
       "│ 8   │ 0.56278  │ 0.351116  │ 0.110624 │ 0.960663  │ 0.882905 │ 0.251463  │\n",
       "│ 9   │ 0.623879 │ 0.265178  │ 0.567449 │ 0.75158   │ 0.201824 │ 0.641805  │\n",
       "│ 10  │ 0.385288 │ 0.5366    │ 0.193104 │ 0.829972  │ 0.540817 │ 0.684038  │"
      ]
     },
     "execution_count": 2,
     "metadata": {},
     "output_type": "execute_result"
    }
   ],
   "source": [
    "df = convert(DataFrame, rand(10,6))\n",
    "names!(df, [:A, :B, :C, :D, :E, :F])"
   ]
  },
  {
   "cell_type": "code",
   "execution_count": 3,
   "metadata": {
    "collapsed": false
   },
   "outputs": [
    {
     "data": {
      "text/plain": [
       "Formula: T ~ A + (2B) * C + log((3D) * (E + 0.8F)) + 2.0"
      ]
     },
     "execution_count": 3,
     "metadata": {},
     "output_type": "execute_result"
    }
   ],
   "source": [
    "formula = T ~ A+2B*C+log(3D*(E+0.8F))+2.0"
   ]
  },
  {
   "cell_type": "code",
   "execution_count": 4,
   "metadata": {
    "collapsed": false
   },
   "outputs": [
    {
     "data": {
      "text/html": [
       "<table class=\"data-frame\"><tr><th></th><th>T</th></tr><tr><th>1</th><td>3.504505164086454</td></tr><tr><th>2</th><td>4.310869399429139</td></tr><tr><th>3</th><td>1.0876713317408702</td></tr><tr><th>4</th><td>2.3914199497591464</td></tr><tr><th>5</th><td>4.4325351124422445</td></tr><tr><th>6</th><td>2.8993251075190107</td></tr><tr><th>7</th><td>2.673017795010866</td></tr><tr><th>8</th><td>4.021456711699673</td></tr><tr><th>9</th><td>3.4193052423320878</td></tr><tr><th>10</th><td>5.17637945995563</td></tr></table>"
      ],
      "text/plain": [
       "10×1 DataFrames.DataFrame\n",
       "│ Row │ T       │\n",
       "├─────┼─────────┤\n",
       "│ 1   │ 3.50451 │\n",
       "│ 2   │ 4.31087 │\n",
       "│ 3   │ 1.08767 │\n",
       "│ 4   │ 2.39142 │\n",
       "│ 5   │ 4.43254 │\n",
       "│ 6   │ 2.89933 │\n",
       "│ 7   │ 2.67302 │\n",
       "│ 8   │ 4.02146 │\n",
       "│ 9   │ 3.41931 │\n",
       "│ 10  │ 5.17638 │"
      ]
     },
     "execution_count": 4,
     "metadata": {},
     "output_type": "execute_result"
    }
   ],
   "source": [
    "# simulate a normal response with σ=1.0\n",
    "sim_model = Model(formula, IdentityLink(), NormalResponse(1.0))\n",
    "simulate(sim_model, df)"
   ]
  },
  {
   "cell_type": "code",
   "execution_count": 5,
   "metadata": {
    "collapsed": false
   },
   "outputs": [
    {
     "data": {
      "text/html": [
       "<table class=\"data-frame\"><tr><th></th><th>T</th></tr><tr><th>1</th><td>93</td></tr><tr><th>2</th><td>99</td></tr><tr><th>3</th><td>49</td></tr><tr><th>4</th><td>91</td></tr><tr><th>5</th><td>100</td></tr><tr><th>6</th><td>99</td></tr><tr><th>7</th><td>88</td></tr><tr><th>8</th><td>97</td></tr><tr><th>9</th><td>98</td></tr><tr><th>10</th><td>96</td></tr></table>"
      ],
      "text/plain": [
       "10×1 DataFrames.DataFrame\n",
       "│ Row │ T   │\n",
       "├─────┼─────┤\n",
       "│ 1   │ 93  │\n",
       "│ 2   │ 99  │\n",
       "│ 3   │ 49  │\n",
       "│ 4   │ 91  │\n",
       "│ 5   │ 100 │\n",
       "│ 6   │ 99  │\n",
       "│ 7   │ 88  │\n",
       "│ 8   │ 97  │\n",
       "│ 9   │ 98  │\n",
       "│ 10  │ 96  │"
      ]
     },
     "execution_count": 5,
     "metadata": {},
     "output_type": "execute_result"
    }
   ],
   "source": [
    "# simulate a binomial response with n=100\n",
    "sim_model = Model(formula, LogitLink(), BinomialResponse(100))\n",
    "simulate(sim_model, df)"
   ]
  },
  {
   "cell_type": "code",
   "execution_count": 6,
   "metadata": {
    "collapsed": false
   },
   "outputs": [
    {
     "data": {
      "text/html": [
       "<table class=\"data-frame\"><tr><th></th><th>T</th></tr><tr><th>1</th><td>12</td></tr><tr><th>2</th><td>99</td></tr><tr><th>3</th><td>1</td></tr><tr><th>4</th><td>17</td></tr><tr><th>5</th><td>99</td></tr><tr><th>6</th><td>77</td></tr><tr><th>7</th><td>10</td></tr><tr><th>8</th><td>37</td></tr><tr><th>9</th><td>32</td></tr><tr><th>10</th><td>33</td></tr></table>"
      ],
      "text/plain": [
       "10×1 DataFrames.DataFrame\n",
       "│ Row │ T  │\n",
       "├─────┼────┤\n",
       "│ 1   │ 12 │\n",
       "│ 2   │ 99 │\n",
       "│ 3   │ 1  │\n",
       "│ 4   │ 17 │\n",
       "│ 5   │ 99 │\n",
       "│ 6   │ 77 │\n",
       "│ 7   │ 10 │\n",
       "│ 8   │ 37 │\n",
       "│ 9   │ 32 │\n",
       "│ 10  │ 33 │"
      ]
     },
     "execution_count": 6,
     "metadata": {},
     "output_type": "execute_result"
    }
   ],
   "source": [
    "# simulate a Poisson response\n",
    "sim_model = Model(formula, LogLink(), PoissonResponse())\n",
    "simulate(sim_model, df)"
   ]
  },
  {
   "cell_type": "code",
   "execution_count": 7,
   "metadata": {
    "collapsed": false
   },
   "outputs": [
    {
     "data": {
      "text/html": [
       "<table class=\"data-frame\"><tr><th></th><th>T</th></tr><tr><th>1</th><td>1</td></tr><tr><th>2</th><td>1</td></tr><tr><th>3</th><td>0</td></tr><tr><th>4</th><td>1</td></tr><tr><th>5</th><td>1</td></tr><tr><th>6</th><td>1</td></tr><tr><th>7</th><td>1</td></tr><tr><th>8</th><td>1</td></tr><tr><th>9</th><td>1</td></tr><tr><th>10</th><td>1</td></tr></table>"
      ],
      "text/plain": [
       "10×1 DataFrames.DataFrame\n",
       "│ Row │ T │\n",
       "├─────┼───┤\n",
       "│ 1   │ 1 │\n",
       "│ 2   │ 1 │\n",
       "│ 3   │ 0 │\n",
       "│ 4   │ 1 │\n",
       "│ 5   │ 1 │\n",
       "│ 6   │ 1 │\n",
       "│ 7   │ 1 │\n",
       "│ 8   │ 1 │\n",
       "│ 9   │ 1 │\n",
       "│ 10  │ 1 │"
      ]
     },
     "execution_count": 7,
     "metadata": {},
     "output_type": "execute_result"
    }
   ],
   "source": [
    "# simulate a Bernoulli response\n",
    "sim_model = Model(formula, LogitLink(), BernoulliResponse())\n",
    "simulate(sim_model, df)"
   ]
  },
  {
   "cell_type": "code",
   "execution_count": 8,
   "metadata": {
    "collapsed": false
   },
   "outputs": [
    {
     "data": {
      "text/html": [
       "<table class=\"data-frame\"><tr><th></th><th>T</th></tr><tr><th>1</th><td>0.02375534822371872</td></tr><tr><th>2</th><td>0.14055072607201588</td></tr><tr><th>3</th><td>8.876709263297036</td></tr><tr><th>4</th><td>0.3468466653555284</td></tr><tr><th>5</th><td>0.35110397796023435</td></tr><tr><th>6</th><td>0.30856165093118143</td></tr><tr><th>7</th><td>0.08373521564397778</td></tr><tr><th>8</th><td>0.2534106842926165</td></tr><tr><th>9</th><td>0.4525316281929459</td></tr><tr><th>10</th><td>0.026888275196969787</td></tr></table>"
      ],
      "text/plain": [
       "10×1 DataFrames.DataFrame\n",
       "│ Row │ T         │\n",
       "├─────┼───────────┤\n",
       "│ 1   │ 0.0237553 │\n",
       "│ 2   │ 0.140551  │\n",
       "│ 3   │ 8.87671   │\n",
       "│ 4   │ 0.346847  │\n",
       "│ 5   │ 0.351104  │\n",
       "│ 6   │ 0.308562  │\n",
       "│ 7   │ 0.0837352 │\n",
       "│ 8   │ 0.253411  │\n",
       "│ 9   │ 0.452532  │\n",
       "│ 10  │ 0.0268883 │"
      ]
     },
     "execution_count": 8,
     "metadata": {},
     "output_type": "execute_result"
    }
   ],
   "source": [
    "# simulate an Exponential response\n",
    "sim_model = Model(formula, InverseLink(), ExponentialResponse())\n",
    "simulate(sim_model, df)"
   ]
  },
  {
   "cell_type": "code",
   "execution_count": 11,
   "metadata": {
    "collapsed": false
   },
   "outputs": [
    {
     "data": {
      "text/html": [
       "<table class=\"data-frame\"><tr><th></th><th>T</th></tr><tr><th>1</th><td>0.34434393232264326</td></tr><tr><th>2</th><td>0.2890975230054341</td></tr><tr><th>3</th><td>14.830712722934773</td></tr><tr><th>4</th><td>0.9323246533111741</td></tr><tr><th>5</th><td>0.6516330211627606</td></tr><tr><th>6</th><td>0.460886898208853</td></tr><tr><th>7</th><td>1.2446424985637627</td></tr><tr><th>8</th><td>1.5788506659265176</td></tr><tr><th>9</th><td>0.1967905622466749</td></tr><tr><th>10</th><td>0.13124277622658273</td></tr></table>"
      ],
      "text/plain": [
       "10×1 DataFrames.DataFrame\n",
       "│ Row │ T        │\n",
       "├─────┼──────────┤\n",
       "│ 1   │ 0.344344 │\n",
       "│ 2   │ 0.289098 │\n",
       "│ 3   │ 14.8307  │\n",
       "│ 4   │ 0.932325 │\n",
       "│ 5   │ 0.651633 │\n",
       "│ 6   │ 0.460887 │\n",
       "│ 7   │ 1.24464  │\n",
       "│ 8   │ 1.57885  │\n",
       "│ 9   │ 0.196791 │\n",
       "│ 10  │ 0.131243 │"
      ]
     },
     "execution_count": 11,
     "metadata": {},
     "output_type": "execute_result"
    }
   ],
   "source": [
    "# simulate a gamma response with shape parameter 2.0\n",
    "sim_model = Model(formula, InverseLink(), GammaResponse(2.0))\n",
    "simulate(sim_model, df)"
   ]
  },
  {
   "cell_type": "code",
   "execution_count": null,
   "metadata": {
    "collapsed": true
   },
   "outputs": [],
   "source": []
  }
 ],
 "metadata": {
  "kernelspec": {
   "display_name": "Julia 0.4.6",
   "language": "julia",
   "name": "julia-0.4"
  },
  "language_info": {
   "file_extension": ".jl",
   "mimetype": "application/julia",
   "name": "julia",
   "version": "0.4.5"
  }
 },
 "nbformat": 4,
 "nbformat_minor": 0
}
